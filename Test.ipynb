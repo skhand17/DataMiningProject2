{
 "cells": [
  {
   "cell_type": "code",
   "execution_count": 1,
   "id": "e3c27107",
   "metadata": {},
   "outputs": [],
   "source": [
    "import pandas as pd\n",
    "import numpy as np\n",
    "from datetime import timedelta\n",
    "from scipy.fftpack import fft, ifft,rfft\n",
    "import pickle"
   ]
  },
  {
   "cell_type": "code",
   "execution_count": 2,
   "id": "a00f6a7e",
   "metadata": {},
   "outputs": [],
   "source": [
    "test_data = pd.read_csv(\"test.csv\", header=None, low_memory=False)"
   ]
  },
  {
   "cell_type": "code",
   "execution_count": 3,
   "id": "7230a4d5",
   "metadata": {},
   "outputs": [],
   "source": [
    "def createFeatureMatrix(test_data):\n",
    "    \n",
    "    power_second = []\n",
    "    power_third = []\n",
    "    differential_data = []\n",
    "    standard_deviation = []\n",
    "    \n",
    "    for i in range(len(test_data)):\n",
    "        array=abs(rfft(test_data.iloc[:,0:24].iloc[i].values.tolist())).tolist()\n",
    "        sorted_array=abs(rfft(test_data.iloc[:,0:24].iloc[i].values.tolist())).tolist()\n",
    "        sorted_array.sort()\n",
    "        \n",
    "        power_second.append(sorted_array[-3])\n",
    "        power_third.append(sorted_array[-4])\n",
    "    \n",
    "    feature_matrix = pd.DataFrame()\n",
    "    feature_matrix['Power II Max'] = power_second\n",
    "    feature_matrix['Power III Max'] = power_third\n",
    "    \n",
    "    for i in range(len(test_data)):\n",
    "        differential_data.append(np.diff(np.diff(test_data.iloc[:,0:24].iloc[i].tolist())).max())\n",
    "        standard_deviation.append(np.std(test_data.iloc[i]))\n",
    "    \n",
    "    feature_matrix['II Differential'] = differential_data\n",
    "    feature_matrix['Standard Deviation'] = standard_deviation\n",
    "    \n",
    "    return feature_matrix"
   ]
  },
  {
   "cell_type": "code",
   "execution_count": 4,
   "id": "06ffb7ec",
   "metadata": {},
   "outputs": [],
   "source": [
    "test_dataset = createFeatureMatrix(test_data)"
   ]
  },
  {
   "cell_type": "code",
   "execution_count": 5,
   "id": "acf8806b",
   "metadata": {},
   "outputs": [],
   "source": [
    "loaded_pickle_model = pickle.load(open(\"clf_random_forest_classifier.pkl\", \"rb\"))\n",
    "pickle_predictions = loaded_pickle_model.predict(test_dataset)"
   ]
  },
  {
   "cell_type": "code",
   "execution_count": 6,
   "id": "e30a7554",
   "metadata": {},
   "outputs": [],
   "source": [
    "pd.DataFrame(pickle_predictions).to_csv('Result.csv',index=False,header=False)"
   ]
  },
  {
   "cell_type": "code",
   "execution_count": null,
   "id": "69ab7335",
   "metadata": {},
   "outputs": [],
   "source": []
  }
 ],
 "metadata": {
  "kernelspec": {
   "display_name": "Python 3 (ipykernel)",
   "language": "python",
   "name": "python3"
  },
  "language_info": {
   "codemirror_mode": {
    "name": "ipython",
    "version": 3
   },
   "file_extension": ".py",
   "mimetype": "text/x-python",
   "name": "python",
   "nbconvert_exporter": "python",
   "pygments_lexer": "ipython3",
   "version": "3.10.9"
  }
 },
 "nbformat": 4,
 "nbformat_minor": 5
}
